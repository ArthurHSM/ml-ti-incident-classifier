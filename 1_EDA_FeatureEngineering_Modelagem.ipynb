{
  "nbformat": 4,
  "nbformat_minor": 0,
  "metadata": {
    "colab": {
      "provenance": [],
      "collapsed_sections": [
        "VxaQPqIrzgTf",
        "dRtE_iF0pH4k",
        "SCbcSQAhxi9t",
        "Caj6n3W4pEGf",
        "JbRadABRpIro"
      ],
      "toc_visible": true,
      "authorship_tag": "ABX9TyMDkN+oasM1SoHoN5Sw4+kX",
      "include_colab_link": true
    },
    "kernelspec": {
      "name": "python3",
      "display_name": "Python 3"
    },
    "language_info": {
      "name": "python"
    }
  },
  "cells": [
    {
      "cell_type": "markdown",
      "metadata": {
        "id": "view-in-github",
        "colab_type": "text"
      },
      "source": [
        "<a href=\"https://colab.research.google.com/github/ArthurHSM/ml-ti-incident-classifier/blob/main/1_EDA_FeatureEngineering_Modelagem.ipynb\" target=\"_parent\"><img src=\"https://colab.research.google.com/assets/colab-badge.svg\" alt=\"Open In Colab\"/></a>"
      ]
    },
    {
      "cell_type": "markdown",
      "source": [
        "# Business Context\n",
        "\n",
        "No contexto de operações de TI, grandes volumes de alertas são gerados diariamente pelas ferramentas de monitoramento de infraestrutura e aplicações. O ServiceNow, plataforma de IT Service Management (ITSM), centraliza esses alertas, permitindo que equipes de operações respondam a eventos críticos. Entretanto, devido à quantidade de eventos, a priorização e identificação de possíveis incidentes torna-se complexa e manual. Este trabalho propõe a utilização de um modelo de Machine Learning capaz de classificar esses alertas em incidentes automáticamente, otimizando os esforços tanto dos operadores responsáveis por rotular quanto da equipe que atuará no problema mais rápido.\n"
      ],
      "metadata": {
        "id": "Uq-9iJkTMFD4"
      }
    },
    {
      "cell_type": "markdown",
      "source": [
        "# Setup"
      ],
      "metadata": {
        "id": "tMTIUJNXqRN4"
      }
    },
    {
      "cell_type": "code",
      "execution_count": 14,
      "metadata": {
        "id": "4_bE5EumjPtS"
      },
      "outputs": [],
      "source": [
        "# Instalar o Java Development Kit (JDK) - necessário para o Spark.\n",
        "!apt-get install openjdk-8-jdk-headless -qq > /dev/null\n",
        "\n",
        "# Instalar o PySpark.\n",
        "!pip install pyspark --quiet\n",
        "!pip install findspark --quiet # Para ajudar o Colab a encontrar o Spark.\n",
        "!pip install imbalanced-learn --quiet # Manter esta para tratamento de desbalanceamento em Pandas/Scikit-learn.\n",
        "!pip install missingno --quiet # Para plot de visualização de nulos."
      ]
    },
    {
      "cell_type": "code",
      "source": [
        "# Configura o local de instalação do Spark\n",
        "import findspark\n",
        "findspark.init()\n",
        "from pyspark.sql import SparkSession\n",
        "from pyspark.sql import functions as F\n",
        "from pyspark.sql.functions import lower, collect_list, first\n",
        "from pyspark.sql.types import *\n",
        "\n",
        "# Cria a sessão Spark\n",
        "spark = SparkSession.builder\\\n",
        "    .appName(\"ITIncidentClassifier\")\\\n",
        "    .master(\"local[*]\")\\\n",
        "    .getOrCreate()\n",
        "\n",
        "print(\"Spark Session iniciada com sucesso!\")\n",
        "\n",
        "# Ferramentas Essenciais\n",
        "import pandas as pd\n",
        "import matplotlib.pyplot as plt\n",
        "import seaborn as sns\n",
        "import missingno as msno\n",
        "import numpy as np\n",
        "\n",
        "# Machine learning\n",
        "from sklearn.model_selection import train_test_split, RandomizedSearchCV\n",
        "from imblearn.over_sampling import SMOTE # Para tratar o desbalanceamento\n",
        "from pyspark.ml.feature import StringIndexer, OneHotEncoder, VectorAssembler, Tokenizer, HashingTF, IDF\n",
        "from pyspark.ml import Pipeline\n",
        "from pyspark.ml.stat import Correlation # Matriz de correlação\n",
        "from scipy.sparse import csr_matrix # Necessário para lidar com vetores esparsos\n",
        "from sklearn.linear_model import LogisticRegression # Regressão\n",
        "from sklearn.metrics import classification_report, roc_auc_score # Avaliação do modelo\n",
        "import xgboost as xgb\n",
        "from sklearn.metrics import precision_score, recall_score, f1_score\n",
        "import re # Regex\n",
        "\n",
        "# Conexão com o Google Drive\n",
        "from google.colab import drive\n",
        "\n",
        "from sklearn.model_selection import RandomizedSearchCV\n",
        "from scipy.stats import uniform, randint\n",
        "import xgboost as xgb\n",
        "import time"
      ],
      "metadata": {
        "colab": {
          "base_uri": "https://localhost:8080/"
        },
        "id": "wpY6IRKHpriy",
        "outputId": "9c574f6b-9ace-4b12-e36b-a7ffeefeaf4d"
      },
      "execution_count": 15,
      "outputs": [
        {
          "output_type": "stream",
          "name": "stdout",
          "text": [
            "Spark Session iniciada com sucesso!\n"
          ]
        }
      ]
    },
    {
      "cell_type": "markdown",
      "source": [
        "# Reading dataset"
      ],
      "metadata": {
        "id": "-FghwnIsqazo"
      }
    },
    {
      "cell_type": "code",
      "source": [
        "drive.mount('/content/drive')\n",
        "\n",
        "# Leitura do dataset salvo no drive pessoal\n",
        "data_path = '/content/drive/MyDrive/01-FIAP/TechChallenge_03/alerts_dataset.csv'\n",
        "\n",
        "df_spark = spark.read.csv(\n",
        "    path=data_path,\n",
        "    header=True,\n",
        "    inferSchema=True\n",
        ")"
      ],
      "metadata": {
        "id": "1jxrwfyNqbf9",
        "colab": {
          "base_uri": "https://localhost:8080/"
        },
        "outputId": "2fe6b9c7-c5b0-4c11-992c-ff05b1c64e5a"
      },
      "execution_count": 16,
      "outputs": [
        {
          "output_type": "stream",
          "name": "stdout",
          "text": [
            "Drive already mounted at /content/drive; to attempt to forcibly remount, call drive.mount(\"/content/drive\", force_remount=True).\n"
          ]
        }
      ]
    },
    {
      "cell_type": "code",
      "source": [
        "df_spark.show()"
      ],
      "metadata": {
        "colab": {
          "base_uri": "https://localhost:8080/"
        },
        "id": "-Fvhk391r-MR",
        "outputId": "efd435dd-c85c-4be7-9002-94f73419882b"
      },
      "execution_count": 17,
      "outputs": [
        {
          "output_type": "stream",
          "name": "stdout",
          "text": [
            "+--------------------+------------+-----------+--------+-------------------+--------------------+---------+-------------------+-------------------+-----------+-----------+\n",
            "|            alert_id|      source|environment|severity|        metric_name|         description|       ci|         created_at|         updated_at|maintenance|is_incident|\n",
            "+--------------------+------------+-----------+--------+-------------------+--------------------+---------+-------------------+-------------------+-----------+-----------+\n",
            "|6ff0492d-3843-44c...|   Dynatrace|       prod| warning|  connection_errors|Alert: connection...|    app-7|2025-08-25 04:15:06|2025-08-25 20:44:06|      false|          1|\n",
            "|5de899bc-507b-473...|      Zabbix|        dev|   major|     db_connections|Db_connections ab...|switch-10|2025-08-10 06:58:12|2025-08-10 17:49:12|      false|          0|\n",
            "|192184e6-69a0-4e2...|ThousandEyes|        hml|   minor|       memory_usage|                NULL|   app-38|2025-09-18 11:10:22|2025-09-18 13:48:22|      false|          0|\n",
            "|76261464-9567-454...|   Dynatrace|       prod| warning|    network_latency|Alert: network la...| router-1|2025-08-19 13:30:54|2025-08-19 22:05:54|      false|          1|\n",
            "|9ba8aa0c-1b86-435...|      Zabbix|       prod|   minor|service_unavailable|Service unavailab...|server-51|2025-09-19 12:36:22|2025-09-19 15:22:22|      false|          1|\n",
            "|59186e10-c980-4fa...|  CloudWatch|        dev|   major|     db_connections|Multiple db conne...| switch-7|2025-07-20 22:43:26|2025-07-21 12:07:26|      false|          1|\n",
            "|061712d1-fa0a-4d7...|  CloudWatch|        hml|      ok|        ping_failed|High ping_failed ...|router-19|2025-09-08 07:03:11|2025-09-08 12:59:11|      false|          0|\n",
            "|286435ab-ada8-4a3...|   Dynatrace|        hml| warning|       memory_usage|High memory_usage...|    db-40|2025-08-04 19:45:10|2025-08-05 18:46:10|      false|          0|\n",
            "|59dfb4bd-4a23-4e7...|      Zabbix|        hml|      ok|       thread_count|Alert: thread cou...|server-57|2025-09-10 19:27:21|2025-09-11 08:40:21|      false|          0|\n",
            "|cb73b6f4-d1d6-4cf...|   Dynatrace|        hml|      ok|  connection_errors|High connection_e...| switch-1|2025-08-18 14:13:40|2025-08-18 22:00:40|      false|          0|\n",
            "|3940eab1-7e1e-413...|      Zabbix|        hml|      ok|         swap_usage|Alert: swap usage...|switch-13|2025-08-28 18:23:28|2025-08-29 02:46:28|      false|          0|\n",
            "|2ae52aa5-cbaf-4ec...|   Dynatrace|        dev|   clear| out_of_memory_kill|High out_of_memor...|    db-41|2025-07-28 12:31:07|2025-07-28 20:43:07|       true|          0|\n",
            "|6dd3e033-b516-455...|   Dynatrace|       prod|   minor|        ping_failed|Ping failed criti...|    db-31|2025-07-09 01:33:06|2025-07-10 01:18:06|       true|          1|\n",
            "|b671ffaa-d56e-4a1...|      Zabbix|        hml|   minor|    network_latency|High network_late...|server-60|2025-07-17 01:37:33|2025-07-17 05:46:33|      false|          0|\n",
            "|f096c2f3-377d-417...|ThousandEyes|       prod|   major| out_of_memory_kill|Out of memory kil...|server-56|2025-08-22 22:40:11|2025-08-22 23:53:11|      false|          1|\n",
            "|0d935a9c-e29c-474...|  CloudWatch|       prod|      ok|       thread_count|Thread_count abov...| router-6|2025-09-08 10:08:27|2025-09-08 14:50:27|      false|          0|\n",
            "|f579957e-b0ef-491...|  CloudWatch|       prod|   major|   disk_space_usage|Alert: disk space...|server-68|2025-09-21 10:00:19|2025-09-21 18:30:19|      false|          1|\n",
            "|b585a885-1542-41d...|  CloudWatch|        dev|   clear|      response_time|                NULL|switch-15|2025-09-07 00:50:05|2025-09-07 18:11:05|      false|          0|\n",
            "|8f018ede-1140-4ac...|      Zabbix|       prod| warning|     db_connections|Db connections sp...|    db-29|2025-09-10 06:38:28|2025-09-10 15:04:28|       true|          0|\n",
            "|222c965a-b30a-40a...|  CloudWatch|        dev|      ok|       queue_length|Queue length spik...|server-39|2025-10-02 01:48:26|2025-10-02 14:41:26|      false|          0|\n",
            "+--------------------+------------+-----------+--------+-------------------+--------------------+---------+-------------------+-------------------+-----------+-----------+\n",
            "only showing top 20 rows\n",
            "\n"
          ]
        }
      ]
    },
    {
      "cell_type": "markdown",
      "source": [
        "# EDA - Exploratory Data Analysis\n",
        "\n"
      ],
      "metadata": {
        "id": "VxaQPqIrzgTf"
      }
    },
    {
      "cell_type": "code",
      "source": [
        "# Considerando que se trata de um problema de classificação, é importante saber a distribuição da variável alvo.\n",
        "# Quantidades maiores de uma classe em relação a outra podem enviezar o modelo.\n",
        "# Usar modelos como Random Forest ou XGBoost podem encaixar bem na distribuição abaixo. Lembrar de usar o argumento de class_weights no treinamento.\n",
        "df_spark.groupBy('is_incident').count().show()"
      ],
      "metadata": {
        "colab": {
          "base_uri": "https://localhost:8080/"
        },
        "id": "_2b2xy0nzj5J",
        "outputId": "783538c9-54ff-482c-ac1e-8fcbe2334d99"
      },
      "execution_count": 18,
      "outputs": [
        {
          "output_type": "stream",
          "name": "stdout",
          "text": [
            "+-----------+-----+\n",
            "|is_incident|count|\n",
            "+-----------+-----+\n",
            "|          1|13175|\n",
            "|          0|36825|\n",
            "+-----------+-----+\n",
            "\n"
          ]
        }
      ]
    },
    {
      "cell_type": "code",
      "source": [
        "# Analisando a proporção de incidentes por tipo de \"source\"\n",
        "\n",
        "df_source_analysis = (\n",
        "    df_spark\n",
        "    .groupBy('source')\n",
        "    .agg(\n",
        "        F.countDistinct('alert_id').alias('total_alerts'),\n",
        "        F.sum(F.col('is_incident')).alias('total_incidents')\n",
        "    )\n",
        "    .withColumn('perc_incidents', F.round((F.col(\"total_incidents\") / F.col(\"total_alerts\"))*100, 2))\n",
        "    .orderBy(F.col('perc_incidents').desc())\n",
        ")\n",
        "\n",
        "df_source_analysis.show()\n",
        "\n",
        "# Analisando a proporção de incidentes por tipo de \"environment\"\n",
        "\n",
        "df_environment_analysis = (\n",
        "    df_spark\n",
        "    .groupBy('environment')\n",
        "    .agg(\n",
        "        F.countDistinct('alert_id').alias('total_alerts'),\n",
        "        F.sum(F.col('is_incident')).alias('total_incidents')\n",
        "    )\n",
        "    .withColumn('perc_incidents', F.round((F.col(\"total_incidents\") / F.col(\"total_alerts\"))*100, 2))\n",
        "    .orderBy(F.col('perc_incidents').desc())\n",
        ")\n",
        "\n",
        "df_environment_analysis.show()\n",
        "\n",
        "# Analisando a proporção de incidentes por tipo de \"severity\"\n",
        "\n",
        "df_severity_analysis = (\n",
        "    df_spark\n",
        "    .groupBy('severity')\n",
        "    .agg(\n",
        "        F.countDistinct('alert_id').alias('total_alerts'),\n",
        "        F.sum(F.col('is_incident')).alias('total_incidents')\n",
        "    )\n",
        "    .withColumn('perc_incidents', F.round((F.col(\"total_incidents\") / F.col(\"total_alerts\"))*100, 2))\n",
        "    .orderBy(F.col('perc_incidents').desc())\n",
        ")\n",
        "\n",
        "df_severity_analysis.show()\n",
        "\n",
        "# Analisando a proporção de incidentes por tipo de \"metric_name\"\n",
        "\n",
        "df_metric_name_analysis = (\n",
        "    df_spark\n",
        "    .groupBy('metric_name')\n",
        "    .agg(\n",
        "        F.countDistinct('alert_id').alias('total_alerts'),\n",
        "        F.sum(F.col('is_incident')).alias('total_incidents')\n",
        "    )\n",
        "    .withColumn('perc_incidents', F.round((F.col(\"total_incidents\") / F.col(\"total_alerts\"))*100, 2))\n",
        "    .orderBy(F.col('perc_incidents').desc())\n",
        ")\n",
        "\n",
        "df_metric_name_analysis.show()\n",
        "\n",
        "# Analisando a proporção de incidentes por tipo de \"maintenance\"\n",
        "\n",
        "df_maintenance_analysis = (\n",
        "    df_spark\n",
        "    .groupBy('maintenance')\n",
        "    .agg(\n",
        "        F.countDistinct('alert_id').alias('total_alerts'),\n",
        "        F.sum(F.col('is_incident')).alias('total_incidents')\n",
        "    )\n",
        "    .withColumn('perc_incidents', F.round((F.col(\"total_incidents\") / F.col(\"total_alerts\"))*100, 2))\n",
        "    .orderBy(F.col('perc_incidents').desc())\n",
        ")\n",
        "\n",
        "df_maintenance_analysis.show()"
      ],
      "metadata": {
        "colab": {
          "base_uri": "https://localhost:8080/"
        },
        "id": "qkTxhvWkzugT",
        "outputId": "17a0b4db-6b17-4750-ced1-a16c8696f6f9"
      },
      "execution_count": 19,
      "outputs": [
        {
          "output_type": "stream",
          "name": "stdout",
          "text": [
            "+------------+------------+---------------+--------------+\n",
            "|      source|total_alerts|total_incidents|perc_incidents|\n",
            "+------------+------------+---------------+--------------+\n",
            "|   Dynatrace|       25212|           6787|         26.92|\n",
            "|      Zabbix|        9930|           2620|         26.38|\n",
            "|  CloudWatch|        9853|           2556|         25.94|\n",
            "|ThousandEyes|        5005|           1212|         24.22|\n",
            "+------------+------------+---------------+--------------+\n",
            "\n",
            "+-----------+------------+---------------+--------------+\n",
            "|environment|total_alerts|total_incidents|perc_incidents|\n",
            "+-----------+------------+---------------+--------------+\n",
            "|       prod|       25122|           9763|         38.86|\n",
            "|    unknown|        2510|            617|         24.58|\n",
            "|        hml|       14846|           1882|         12.68|\n",
            "|        dev|        7522|            913|         12.14|\n",
            "+-----------+------------+---------------+--------------+\n",
            "\n",
            "+--------+------------+---------------+--------------+\n",
            "|severity|total_alerts|total_incidents|perc_incidents|\n",
            "+--------+------------+---------------+--------------+\n",
            "|   major|        5020|           2784|         55.46|\n",
            "|critical|        4006|           2205|         55.04|\n",
            "| warning|       12532|           4448|         35.49|\n",
            "|   minor|        7348|           1600|         21.77|\n",
            "|      ok|       17484|           1853|          10.6|\n",
            "|   clear|        3610|            285|          7.89|\n",
            "+--------+------------+---------------+--------------+\n",
            "\n",
            "+-------------------+------------+---------------+--------------+\n",
            "|        metric_name|total_alerts|total_incidents|perc_incidents|\n",
            "+-------------------+------------+---------------+--------------+\n",
            "|service_unavailable|        3097|            878|         28.35|\n",
            "|    network_latency|        3069|            836|         27.24|\n",
            "|   disk_space_usage|        3203|            864|         26.97|\n",
            "|  connection_errors|        3182|            858|         26.96|\n",
            "|      response_time|        3084|            830|         26.91|\n",
            "| out_of_memory_kill|        3073|            825|         26.85|\n",
            "|        packet_loss|        3096|            831|         26.84|\n",
            "|         swap_usage|        3151|            843|         26.75|\n",
            "|        ping_failed|        3102|            829|         26.72|\n",
            "|            disk_io|        3084|            808|          26.2|\n",
            "|       thread_count|        3103|            809|         26.07|\n",
            "|     db_connections|        3005|            783|         26.06|\n",
            "|          cpu_usage|        3193|            828|         25.93|\n",
            "| http_response_time|        3209|            807|         25.15|\n",
            "|       memory_usage|        3163|            791|         25.01|\n",
            "|       queue_length|        3186|            755|          23.7|\n",
            "+-------------------+------------+---------------+--------------+\n",
            "\n",
            "+-----------+------------+---------------+--------------+\n",
            "|maintenance|total_alerts|total_incidents|perc_incidents|\n",
            "+-----------+------------+---------------+--------------+\n",
            "|      false|       44972|          12875|         28.63|\n",
            "|       true|        5028|            300|          5.97|\n",
            "+-----------+------------+---------------+--------------+\n",
            "\n"
          ]
        }
      ]
    },
    {
      "cell_type": "code",
      "source": [
        "# Avaliando a quantidade distinta de valores de \"ci\" (entender se vai dar pra aplicar OneHotEncoding)\n",
        "ci_count = df_spark.select('ci').distinct().count()\n",
        "print(f\"Número de CIs (Ativos) únicos: {ci_count}\")\n",
        "\n",
        "# Avaliando se as variáveis de data geram alguma sazonalidade.\n",
        "df_time_analysis = df_spark.withColumn(\n",
        "    \"hour\", F.hour(F.col(\"created_at\"))\n",
        ").withColumn(\n",
        "    \"day_of_week\", F.dayofweek(F.col(\"created_at\")) # Domingo=1, Sábado=7\n",
        ")\n",
        "\n",
        "# Calcula a taxa de incidente por hora\n",
        "df_incident_rate_by_hour = df_time_analysis.groupBy(\"hour\").agg(\n",
        "    F.countDistinct(F.col(\"alert_id\")).alias(\"total_alerts\"),\n",
        "    F.sum(F.col('is_incident')).alias('total_incidents'),\n",
        ").withColumn('perc_incidents_by_hour', F.round((F.col(\"total_incidents\") / F.col(\"total_alerts\"))*100, 2)).sort(F.col(\"hour\"))\n",
        "\n",
        "df_incident_rate_by_hour.show(24)\n",
        "\n",
        "# Calcula a taxa de incidente por dia da semana\n",
        "df_incident_rate_by_day_of_week = df_time_analysis.groupBy(\"day_of_week\").agg(\n",
        "    F.countDistinct(F.col(\"alert_id\")).alias(\"total_alerts\"),\n",
        "    F.sum(F.col('is_incident')).alias('total_incidents'),\n",
        ").withColumn('perc_incidents_by_day_of_week', F.round((F.col(\"total_incidents\") / F.col(\"total_alerts\"))*100, 2)).sort(F.col(\"day_of_week\"))\n",
        "\n",
        "df_incident_rate_by_day_of_week.show()"
      ],
      "metadata": {
        "colab": {
          "base_uri": "https://localhost:8080/"
        },
        "id": "EV5C0nsH8xJP",
        "outputId": "bea2e25b-a60b-448b-e82a-85ccb32d67dd"
      },
      "execution_count": 20,
      "outputs": [
        {
          "output_type": "stream",
          "name": "stdout",
          "text": [
            "Número de CIs (Ativos) únicos: 226\n",
            "+----+------------+---------------+----------------------+\n",
            "|hour|total_alerts|total_incidents|perc_incidents_by_hour|\n",
            "+----+------------+---------------+----------------------+\n",
            "|   0|        2067|            548|                 26.51|\n",
            "|   1|        2076|            547|                 26.35|\n",
            "|   2|        2057|            546|                 26.54|\n",
            "|   3|        2106|            568|                 26.97|\n",
            "|   4|        2173|            568|                 26.14|\n",
            "|   5|        2044|            535|                 26.17|\n",
            "|   6|        1998|            503|                 25.18|\n",
            "|   7|        2001|            534|                 26.69|\n",
            "|   8|        2124|            587|                 27.64|\n",
            "|   9|        2085|            563|                  27.0|\n",
            "|  10|        2074|            558|                  26.9|\n",
            "|  11|        2039|            513|                 25.16|\n",
            "|  12|        2110|            560|                 26.54|\n",
            "|  13|        2081|            542|                 26.05|\n",
            "|  14|        2051|            537|                 26.18|\n",
            "|  15|        2095|            567|                 27.06|\n",
            "|  16|        2067|            555|                 26.85|\n",
            "|  17|        2106|            564|                 26.78|\n",
            "|  18|        2140|            555|                 25.93|\n",
            "|  19|        2007|            521|                 25.96|\n",
            "|  20|        2157|            582|                 26.98|\n",
            "|  21|        2112|            561|                 26.56|\n",
            "|  22|        2097|            529|                 25.23|\n",
            "|  23|        2133|            532|                 24.94|\n",
            "+----+------------+---------------+----------------------+\n",
            "\n",
            "+-----------+------------+---------------+-----------------------------+\n",
            "|day_of_week|total_alerts|total_incidents|perc_incidents_by_day_of_week|\n",
            "+-----------+------------+---------------+-----------------------------+\n",
            "|          1|        6741|           1726|                         25.6|\n",
            "|          2|        7117|           1863|                        26.18|\n",
            "|          3|        7339|           1940|                        26.43|\n",
            "|          4|        7145|           1929|                         27.0|\n",
            "|          5|        7311|           1963|                        26.85|\n",
            "|          6|        7060|           1858|                        26.32|\n",
            "|          7|        7287|           1896|                        26.02|\n",
            "+-----------+------------+---------------+-----------------------------+\n",
            "\n"
          ]
        }
      ]
    },
    {
      "cell_type": "markdown",
      "source": [
        "## Conclusão EDA\n",
        "\n",
        "\n",
        "*   Features x poder preditivo:\n",
        "\n",
        "    * ⏫ **severity**: major/critical 7x mais propensos a serem incidentes do que clear. Aplicar OneHotEncoding\n",
        "    * ⏫ **environment**: prod (38.86%) têm chance significativamente maior de virar incidente do que em hml (12.68%) ou dev (12.14%). Estudar valores \"unknown\".\n",
        "    * ⏫ **maintenance**: forte preditor negativo. Maiores indices de incidentes quando não há manutenção.\n",
        "    * ⏩ **ci**: Um CI pode ter um histórico de falhas particular, estudar como agrupar isso.\n",
        "    * ⏬ **metric_name**: taxas de incidentes variam pouco entre diferentes métricas, mas será testada sua combinação com outras features.\n",
        "    * ⏬ **source**: taxas de incidentes variam pouco entre diferentes fontes, mas será testada sua combinação com outras features.\n",
        "    * ⏬ **sazonalidade**: foi avaliado o horário e dia da semana dos incidentes usando a coluna \"created_at\" e nenhuma diferença foi observada. Feature será removida.\n",
        "\n",
        "\n"
      ],
      "metadata": {
        "id": "Z_r9J-RefkNF"
      }
    },
    {
      "cell_type": "markdown",
      "source": [
        "# Feature Engineering"
      ],
      "metadata": {
        "id": "aioQCpKxdVUR"
      }
    },
    {
      "cell_type": "markdown",
      "source": [
        "## Tratamento de valores nulos\n",
        "Como indicado no gráfico, 9% dos registros possuem pelo menos 1 coluna com valor nulo.\n",
        "\n",
        "Optei por não remover essas valores nulos. Apesar de ser a maneira mais prática, a perda de 9% dados pode reduzir a capacidade de generalização do modelo. Os valores nulos estão concentrados nas colunas \"description\" e \"ci\" e serão preenchidos por inputação.\n",
        "\n",
        "\n"
      ],
      "metadata": {
        "id": "dRtE_iF0pH4k"
      }
    },
    {
      "cell_type": "code",
      "source": [
        "# É interessante avaliar se o dataset possui muitos valores nulos.\n",
        "\n",
        "df_pandas = df_spark.toPandas()\n",
        "\n",
        "# biblioteca missingno\n",
        "msno.matrix(df_pandas)\n",
        "\n",
        "df_spark_withoutNulls = (\n",
        "    df_spark\n",
        "    .filter(F.col(\"description\").isNotNull())\n",
        "    .filter(F.col(\"ci\").isNotNull())\n",
        "    )\n",
        "\n",
        "count_df_spark_withoutNulls = df_spark_withoutNulls.count()\n",
        "count_df_spark = df_spark.count()\n",
        "print(f'Percentual de linhas com algum valor nulo: {((count_df_spark - count_df_spark_withoutNulls)/count_df_spark)*100}%')"
      ],
      "metadata": {
        "colab": {
          "base_uri": "https://localhost:8080/",
          "height": 968
        },
        "id": "d9-BkiLrj533",
        "outputId": "32a78f47-80b0-4d4f-cad4-de81b12e9518"
      },
      "execution_count": 21,
      "outputs": [
        {
          "output_type": "stream",
          "name": "stdout",
          "text": [
            "Percentual de linhas com algum valor nulo: 9.764000000000001%\n"
          ]
        },
        {
          "output_type": "display_data",
          "data": {
            "text/plain": [
              "<Figure size 2500x1000 with 2 Axes>"
            ],
            "image/png": "[encoded data removed]"
          },
          "metadata": {}
        }
      ]
    },
    {
      "cell_type": "markdown",
      "source": [
        "Coluna \"ci\": A ausência do ativo (ci) pode indicar que o alerta veio de um sistema de monitoramento genérico ou de um ativo que não foi devidamente registrado. Essa \"falta de registro\" pode ser um forte preditor de que algo está errado ou fora do padrão, e o modelo pode aprender com isso. Os valores nulos assumirão \"UNKNOWN_CI\". Fiz a mesma coisa para a coluna \"description\"."
      ],
      "metadata": {
        "id": "Mpaf1vptVyR3"
      }
    },
    {
      "cell_type": "code",
      "source": [
        "# Imputação\n",
        "df_spark = df_spark.withColumn(\n",
        "    \"ci\",\n",
        "    F.when(F.col(\"ci\").isNull(), \"UNKNOWN_CI\").otherwise(F.col(\"ci\"))\n",
        ")"
      ],
      "metadata": {
        "id": "hic9xaEaqXs3"
      },
      "execution_count": 22,
      "outputs": []
    },
    {
      "cell_type": "markdown",
      "source": [
        "## Tratamento de colunas\n",
        "\n",
        "A coluna \"ci\" possuia 226 valores únicos, o que tornava dificil a aplicação de OneHotEncoding. Após entender melhor a coluna, foi aplicado um tratamento para manter somente a parte \"textual\" dos valores, resultando em apenas 6 valores distintos."
      ],
      "metadata": {
        "id": "SCbcSQAhxi9t"
      }
    },
    {
      "cell_type": "code",
      "source": [
        "df_spark = df_spark.withColumn('ci_tratado', F.split(F.col('ci'), '-').getItem(0))"
      ],
      "metadata": {
        "id": "92PVYc4xsvf-"
      },
      "execution_count": 23,
      "outputs": []
    },
    {
      "cell_type": "markdown",
      "source": [
        "A coluna \"maintenance\" foi tratada para ser binária e entrar posteriormente no vetor binario do OneHotEncoding."
      ],
      "metadata": {
        "id": "mMYpLoRZWZBd"
      }
    },
    {
      "cell_type": "code",
      "source": [
        "df_spark = df_spark.withColumn(\"maintenance_int\", F.when(F.col(\"maintenance\") == True, 1).otherwise(0).cast(\"integer\"))"
      ],
      "metadata": {
        "id": "ch3cXeIA3zrv"
      },
      "execution_count": 24,
      "outputs": []
    },
    {
      "cell_type": "markdown",
      "source": [
        "A coluna \"description\" incialmente possuia 35.4k valores únicos. Percebi que boa parte do texto era um tipo de concatenação entre outras colunas, por exemplo \"source\" + \"ci\" + \"investigate immediately\". Diante disso, criei alguns tratamentos com regex para remover tudo que já existia em outras colunas e deixar apenas o que descreve a intensidade/tipo do alerta. No fim, esse tratamento resultou em 329 valores únicos.\n",
        "\n",
        "Porem o uso dessa coluna tratada não resultou em melhorias do modelo baseline e apenas aumentou a dimensionalidade. Por isso, optei por apenas não usar essa coluna."
      ],
      "metadata": {
        "id": "yy9RCjVLWccy"
      }
    },
    {
      "cell_type": "code",
      "source": [
        "df_spark = df_spark.drop('description')"
      ],
      "metadata": {
        "id": "U-57dD-8nuNo"
      },
      "execution_count": 25,
      "outputs": []
    },
    {
      "cell_type": "markdown",
      "source": [
        "## Transformações categóricas e binárias"
      ],
      "metadata": {
        "id": "mS_7XHuA4caK"
      }
    },
    {
      "cell_type": "markdown",
      "source": [
        "### Indexação de Strings\n",
        "Conversão de textos em números"
      ],
      "metadata": {
        "id": "GN9l69be66rr"
      }
    },
    {
      "cell_type": "code",
      "source": [
        "# variavel com a variável alvo\n",
        "LABEL_COL = \"is_incident\"\n",
        "\n",
        "# colunas categóricas/binárias que já estão prontas para serem usadas como features.\n",
        "# 'maintenance_int' entrará direto no VectorAssembler\n",
        "CATEGORICAL_COLS = [\"source\", \"environment\", \"severity\", \"metric_name\", \"ci_tratado\"]\n",
        "\n",
        "# Colunas resultantes da indexação e encoding\n",
        "indexed_cols = [col + \"_indexed\" for col in CATEGORICAL_COLS]\n",
        "encoded_cols = [col + \"_encoded\" for col in CATEGORICAL_COLS]\n",
        "\n",
        "# transforma valores únicos de cada variável em números.\n",
        "string_indexers = [\n",
        "    StringIndexer(inputCol=col, outputCol=col + \"_indexed\", handleInvalid=\"keep\")\n",
        "    for col in CATEGORICAL_COLS\n",
        "]"
      ],
      "metadata": {
        "id": "r4mCGAUQjq0s"
      },
      "execution_count": 26,
      "outputs": []
    },
    {
      "cell_type": "markdown",
      "source": [
        "### Codificação One-Hot (vetores binários)\n",
        "\n",
        "\n"
      ],
      "metadata": {
        "id": "a04zbhda7LJi"
      }
    },
    {
      "cell_type": "code",
      "source": [
        "# One Hot Encoder: Transforma os índices em vetores binários (features)\n",
        "one_hot_encoders = [\n",
        "    OneHotEncoder(inputCol=col + \"_indexed\", outputCol=col + \"_encoded\")\n",
        "    for col in CATEGORICAL_COLS\n",
        "]"
      ],
      "metadata": {
        "id": "pqJilO4H7K5c"
      },
      "execution_count": 27,
      "outputs": []
    },
    {
      "cell_type": "markdown",
      "source": [
        "### Vetor de features"
      ],
      "metadata": {
        "id": "bgkMaU9w7UiS"
      }
    },
    {
      "cell_type": "code",
      "source": [
        "# Vector Assembler: Combina todas as features em um único vetor (categoricas + int)\n",
        "ALL_FEATURES = encoded_cols + [\"maintenance_int\"]\n",
        "\n",
        "vector_assembler = VectorAssembler(\n",
        "    inputCols=ALL_FEATURES,\n",
        "    outputCol=\"features\"\n",
        ")\n",
        "\n",
        "# Pipeline\n",
        "feature_pipeline = Pipeline(\n",
        "    stages=string_indexers + one_hot_encoders + [vector_assembler]\n",
        ")"
      ],
      "metadata": {
        "id": "iMNWPQ_zkRAm"
      },
      "execution_count": 28,
      "outputs": []
    },
    {
      "cell_type": "code",
      "source": [
        "# (Fit & Transform)\n",
        "pipeline_model = feature_pipeline.fit(df_spark)\n",
        "df_features = pipeline_model.transform(df_spark)\n",
        "\n",
        "# Divisão em Treino e Teste\n",
        "train_data, test_data = df_features.randomSplit([0.8, 0.2], seed=42)\n",
        "\n",
        "# boa prática PySpark\n",
        "train_data.cache()\n",
        "test_data.cache()\n",
        "\n",
        "print(f\"Treino (80%): {train_data.count()} linhas\")\n",
        "print(f\"Teste (20%): {test_data.count()} linhas\")"
      ],
      "metadata": {
        "colab": {
          "base_uri": "https://localhost:8080/"
        },
        "id": "Pj5rF3Xh7rSz",
        "outputId": "87a0b16f-fde8-4120-fbbb-aa9bc1448b05"
      },
      "execution_count": 29,
      "outputs": [
        {
          "output_type": "stream",
          "name": "stdout",
          "text": [
            "Treino (80%): 40070 linhas\n",
            "Teste (20%): 9930 linhas\n"
          ]
        }
      ]
    },
    {
      "cell_type": "code",
      "source": [
        "df_features.show()"
      ],
      "metadata": {
        "colab": {
          "base_uri": "https://localhost:8080/"
        },
        "id": "VcULSrY773g6",
        "outputId": "c0d5aee3-c58e-4755-d5a1-9e2cc3ebe97b"
      },
      "execution_count": 30,
      "outputs": [
        {
          "output_type": "stream",
          "name": "stdout",
          "text": [
            "+--------------------+------------+-----------+--------+-------------------+---------+-------------------+-------------------+-----------+-----------+----------+---------------+--------------+-------------------+----------------+-------------------+------------------+--------------+-------------------+----------------+-------------------+------------------+--------------------+\n",
            "|            alert_id|      source|environment|severity|        metric_name|       ci|         created_at|         updated_at|maintenance|is_incident|ci_tratado|maintenance_int|source_indexed|environment_indexed|severity_indexed|metric_name_indexed|ci_tratado_indexed|source_encoded|environment_encoded|severity_encoded|metric_name_encoded|ci_tratado_encoded|            features|\n",
            "+--------------------+------------+-----------+--------+-------------------+---------+-------------------+-------------------+-----------+-----------+----------+---------------+--------------+-------------------+----------------+-------------------+------------------+--------------+-------------------+----------------+-------------------+------------------+--------------------+\n",
            "|6ff0492d-3843-44c...|   Dynatrace|       prod| warning|  connection_errors|    app-7|2025-08-25 04:15:06|2025-08-25 20:44:06|      false|          1|       app|              0|           0.0|                0.0|             1.0|                4.0|               1.0| (4,[0],[1.0])|      (4,[0],[1.0])|   (6,[1],[1.0])|     (16,[4],[1.0])|     (6,[1],[1.0])|(37,[0,4,9,18,31]...|\n",
            "|5de899bc-507b-473...|      Zabbix|        dev|   major|     db_connections|switch-10|2025-08-10 06:58:12|2025-08-10 17:49:12|      false|          0|    switch|              0|           1.0|                2.0|             3.0|               15.0|               4.0| (4,[1],[1.0])|      (4,[2],[1.0])|   (6,[3],[1.0])|    (16,[15],[1.0])|     (6,[4],[1.0])|(37,[1,6,11,29,34...|\n",
            "|192184e6-69a0-4e2...|ThousandEyes|        hml|   minor|       memory_usage|   app-38|2025-09-18 11:10:22|2025-09-18 13:48:22|      false|          0|       app|              0|           3.0|                1.0|             2.0|                5.0|               1.0| (4,[3],[1.0])|      (4,[1],[1.0])|   (6,[2],[1.0])|     (16,[5],[1.0])|     (6,[1],[1.0])|(37,[3,5,10,19,31...|\n",
            "|76261464-9567-454...|   Dynatrace|       prod| warning|    network_latency| router-1|2025-08-19 13:30:54|2025-08-19 22:05:54|      false|          1|    router|              0|           0.0|                0.0|             1.0|               14.0|               3.0| (4,[0],[1.0])|      (4,[0],[1.0])|   (6,[1],[1.0])|    (16,[14],[1.0])|     (6,[3],[1.0])|(37,[0,4,9,28,33]...|\n",
            "|9ba8aa0c-1b86-435...|      Zabbix|       prod|   minor|service_unavailable|server-51|2025-09-19 12:36:22|2025-09-19 15:22:22|      false|          1|    server|              0|           1.0|                0.0|             2.0|                9.0|               0.0| (4,[1],[1.0])|      (4,[0],[1.0])|   (6,[2],[1.0])|     (16,[9],[1.0])|     (6,[0],[1.0])|(37,[1,4,10,23,30...|\n",
            "|59186e10-c980-4fa...|  CloudWatch|        dev|   major|     db_connections| switch-7|2025-07-20 22:43:26|2025-07-21 12:07:26|      false|          1|    switch|              0|           2.0|                2.0|             3.0|               15.0|               4.0| (4,[2],[1.0])|      (4,[2],[1.0])|   (6,[3],[1.0])|    (16,[15],[1.0])|     (6,[4],[1.0])|(37,[2,6,11,29,34...|\n",
            "|061712d1-fa0a-4d7...|  CloudWatch|        hml|      ok|        ping_failed|router-19|2025-09-08 07:03:11|2025-09-08 12:59:11|      false|          0|    router|              0|           2.0|                1.0|             0.0|                8.0|               3.0| (4,[2],[1.0])|      (4,[1],[1.0])|   (6,[0],[1.0])|     (16,[8],[1.0])|     (6,[3],[1.0])|(37,[2,5,8,22,33]...|\n",
            "|286435ab-ada8-4a3...|   Dynatrace|        hml| warning|       memory_usage|    db-40|2025-08-04 19:45:10|2025-08-05 18:46:10|      false|          0|        db|              0|           0.0|                1.0|             1.0|                5.0|               2.0| (4,[0],[1.0])|      (4,[1],[1.0])|   (6,[1],[1.0])|     (16,[5],[1.0])|     (6,[2],[1.0])|(37,[0,5,9,19,32]...|\n",
            "|59dfb4bd-4a23-4e7...|      Zabbix|        hml|      ok|       thread_count|server-57|2025-09-10 19:27:21|2025-09-11 08:40:21|      false|          0|    server|              0|           1.0|                1.0|             0.0|                7.0|               0.0| (4,[1],[1.0])|      (4,[1],[1.0])|   (6,[0],[1.0])|     (16,[7],[1.0])|     (6,[0],[1.0])|(37,[1,5,8,21,30]...|\n",
            "|cb73b6f4-d1d6-4cf...|   Dynatrace|        hml|      ok|  connection_errors| switch-1|2025-08-18 14:13:40|2025-08-18 22:00:40|      false|          0|    switch|              0|           0.0|                1.0|             0.0|                4.0|               4.0| (4,[0],[1.0])|      (4,[1],[1.0])|   (6,[0],[1.0])|     (16,[4],[1.0])|     (6,[4],[1.0])|(37,[0,5,8,18,34]...|\n",
            "|3940eab1-7e1e-413...|      Zabbix|        hml|      ok|         swap_usage|switch-13|2025-08-28 18:23:28|2025-08-29 02:46:28|      false|          0|    switch|              0|           1.0|                1.0|             0.0|                6.0|               4.0| (4,[1],[1.0])|      (4,[1],[1.0])|   (6,[0],[1.0])|     (16,[6],[1.0])|     (6,[4],[1.0])|(37,[1,5,8,20,34]...|\n",
            "|2ae52aa5-cbaf-4ec...|   Dynatrace|        dev|   clear| out_of_memory_kill|    db-41|2025-07-28 12:31:07|2025-07-28 20:43:07|       true|          0|        db|              1|           0.0|                2.0|             5.0|               13.0|               2.0| (4,[0],[1.0])|      (4,[2],[1.0])|   (6,[5],[1.0])|    (16,[13],[1.0])|     (6,[2],[1.0])|(37,[0,6,13,27,32...|\n",
            "|6dd3e033-b516-455...|   Dynatrace|       prod|   minor|        ping_failed|    db-31|2025-07-09 01:33:06|2025-07-10 01:18:06|       true|          1|        db|              1|           0.0|                0.0|             2.0|                8.0|               2.0| (4,[0],[1.0])|      (4,[0],[1.0])|   (6,[2],[1.0])|     (16,[8],[1.0])|     (6,[2],[1.0])|(37,[0,4,10,22,32...|\n",
            "|b671ffaa-d56e-4a1...|      Zabbix|        hml|   minor|    network_latency|server-60|2025-07-17 01:37:33|2025-07-17 05:46:33|      false|          0|    server|              0|           1.0|                1.0|             2.0|               14.0|               0.0| (4,[1],[1.0])|      (4,[1],[1.0])|   (6,[2],[1.0])|    (16,[14],[1.0])|     (6,[0],[1.0])|(37,[1,5,10,28,30...|\n",
            "|f096c2f3-377d-417...|ThousandEyes|       prod|   major| out_of_memory_kill|server-56|2025-08-22 22:40:11|2025-08-22 23:53:11|      false|          1|    server|              0|           3.0|                0.0|             3.0|               13.0|               0.0| (4,[3],[1.0])|      (4,[0],[1.0])|   (6,[3],[1.0])|    (16,[13],[1.0])|     (6,[0],[1.0])|(37,[3,4,11,27,30...|\n",
            "|0d935a9c-e29c-474...|  CloudWatch|       prod|      ok|       thread_count| router-6|2025-09-08 10:08:27|2025-09-08 14:50:27|      false|          0|    router|              0|           2.0|                0.0|             0.0|                7.0|               3.0| (4,[2],[1.0])|      (4,[0],[1.0])|   (6,[0],[1.0])|     (16,[7],[1.0])|     (6,[3],[1.0])|(37,[2,4,8,21,33]...|\n",
            "|f579957e-b0ef-491...|  CloudWatch|       prod|   major|   disk_space_usage|server-68|2025-09-21 10:00:19|2025-09-21 18:30:19|      false|          1|    server|              0|           2.0|                0.0|             3.0|                1.0|               0.0| (4,[2],[1.0])|      (4,[0],[1.0])|   (6,[3],[1.0])|     (16,[1],[1.0])|     (6,[0],[1.0])|(37,[2,4,11,15,30...|\n",
            "|b585a885-1542-41d...|  CloudWatch|        dev|   clear|      response_time|switch-15|2025-09-07 00:50:05|2025-09-07 18:11:05|      false|          0|    switch|              0|           2.0|                2.0|             5.0|               12.0|               4.0| (4,[2],[1.0])|      (4,[2],[1.0])|   (6,[5],[1.0])|    (16,[12],[1.0])|     (6,[4],[1.0])|(37,[2,6,13,26,34...|\n",
            "|8f018ede-1140-4ac...|      Zabbix|       prod| warning|     db_connections|    db-29|2025-09-10 06:38:28|2025-09-10 15:04:28|       true|          0|        db|              1|           1.0|                0.0|             1.0|               15.0|               2.0| (4,[1],[1.0])|      (4,[0],[1.0])|   (6,[1],[1.0])|    (16,[15],[1.0])|     (6,[2],[1.0])|(37,[1,4,9,29,32,...|\n",
            "|222c965a-b30a-40a...|  CloudWatch|        dev|      ok|       queue_length|server-39|2025-10-02 01:48:26|2025-10-02 14:41:26|      false|          0|    server|              0|           2.0|                2.0|             0.0|                3.0|               0.0| (4,[2],[1.0])|      (4,[2],[1.0])|   (6,[0],[1.0])|     (16,[3],[1.0])|     (6,[0],[1.0])|(37,[2,6,8,17,30]...|\n",
            "+--------------------+------------+-----------+--------+-------------------+---------+-------------------+-------------------+-----------+-----------+----------+---------------+--------------+-------------------+----------------+-------------------+------------------+--------------+-------------------+----------------+-------------------+------------------+--------------------+\n",
            "only showing top 20 rows\n",
            "\n"
          ]
        }
      ]
    },
    {
      "cell_type": "markdown",
      "source": [
        "## Análise de Multicolinearidade"
      ],
      "metadata": {
        "id": "Caj6n3W4pEGf"
      }
    },
    {
      "cell_type": "code",
      "source": [
        "# Matriz de Correlação\n",
        "corr_matrix_pyspark = Correlation.corr(\n",
        "    train_data,\n",
        "    column=\"features\",\n",
        "    method=\"pearson\"\n",
        ").collect()[0][0]\n",
        "\n",
        "df_corr_pandas = pd.DataFrame(corr_matrix_pyspark.toArray())\n",
        "\n",
        "# Imprimir a dimensão da matriz\n",
        "print(f\"A dimensão da Matriz de Correlação é: {df_corr_pandas.shape}\")\n",
        "\n",
        "# O número de linhas (e colunas) é o número total de features geradas pelo seu pipeline OHE."
      ],
      "metadata": {
        "colab": {
          "base_uri": "https://localhost:8080/"
        },
        "id": "W5r02FHM-wNV",
        "outputId": "67f2a0b4-04dc-44c1-877b-2533efb82535"
      },
      "execution_count": 31,
      "outputs": [
        {
          "output_type": "stream",
          "name": "stdout",
          "text": [
            "A dimensão da Matriz de Correlação é: (37, 37)\n"
          ]
        }
      ]
    },
    {
      "cell_type": "code",
      "source": [
        "# ajustar tamanho da figura conforme dimensão da matriz\n",
        "plt.figure(figsize=(16, 14))\n",
        "\n",
        "sns.heatmap(\n",
        "    df_corr_pandas,\n",
        "    annot=False,  # evitar poluir o gráfico\n",
        "    cmap='coolwarm',\n",
        "    fmt=\".2f\",\n",
        "    linewidths=0.5,\n",
        "    square=True\n",
        ")\n",
        "\n",
        "plt.title('Matriz de Correlação Interna das 37 Features', fontsize=16)\n",
        "plt.show()"
      ],
      "metadata": {
        "colab": {
          "base_uri": "https://localhost:8080/",
          "height": 1000
        },
        "id": "u5WfD1Pv_Qtj",
        "outputId": "93c3221b-71d2-4c24-d9ce-e75674a7f1d5"
      },
      "execution_count": 32,
      "outputs": [
        {
          "output_type": "display_data",
          "data": {
            "text/plain": [
              "<Figure size 1600x1400 with 2 Axes>"
            ],
            "image/png": "[encoded data removed]"
          },
          "metadata": {}
        }
      ]
    },
    {
      "cell_type": "markdown",
      "source": [
        "Interpreto que Multicolinearidade não é um problema aqui porque a correlação ocorre entre features que vieram do mesmo OneHotEncoder. E são valores negativos porque dentro da mesma feature não existe mais de um valor ao mesmo tempo."
      ],
      "metadata": {
        "id": "Kx_K8JUMB7qL"
      }
    },
    {
      "cell_type": "markdown",
      "source": [
        "## Correlação entre Feature e Target (analisar features mais preditoras)"
      ],
      "metadata": {
        "id": "JbRadABRpIro"
      }
    },
    {
      "cell_type": "code",
      "source": [
        "# Cálculo da Correlação de Pearson entre cada Feature e a Target\n",
        "\n",
        "# novo vetor com a target no cálculo\n",
        "df_with_target = train_data.withColumnRenamed(LABEL_COL, \"label_target\")\n",
        "assembler_target = VectorAssembler(inputCols=[\"features\", \"label_target\"], outputCol=\"features_with_target\")\n",
        "df_target_assembled = assembler_target.transform(df_with_target)\n",
        "\n",
        "# Correlação na nova coluna\n",
        "corr_target_matrix = Correlation.corr(\n",
        "    df_target_assembled,\n",
        "    column=\"features_with_target\",\n",
        "    method=\"pearson\"\n",
        ").collect()[0][0]\n",
        "\n",
        "# O vetor de correlação com o target é a última linha (ou coluna) da matriz\n",
        "# Como a target foi a última feature adicionada, pegamos o vetor de correlação\n",
        "target_corr_vector = corr_target_matrix.toArray()[-1][:-1]\n",
        "\n",
        "feature_names = [f\"F_{i}\" for i in range(len(target_corr_vector))]\n",
        "df_target_corr = pd.DataFrame({\n",
        "    'feature': feature_names,\n",
        "    'correlation': target_corr_vector\n",
        "}).sort_values(by='correlation', ascending=False)\n",
        "\n",
        "# Filtro para pegar aquelas com mais impacto\n",
        "df_target_corr_top = df_target_corr[abs(df_target_corr['correlation']) > 0.1]"
      ],
      "metadata": {
        "id": "7tVy1hZh_bTZ"
      },
      "execution_count": 33,
      "outputs": []
    },
    {
      "cell_type": "code",
      "source": [
        "# Plot\n",
        "\n",
        "plt.figure(figsize=(10, 8))\n",
        "\n",
        "sns.barplot(\n",
        "    x='correlation',\n",
        "    y='feature',\n",
        "    data=df_target_corr_top,\n",
        "    palette=sns.color_palette(\"RdBu\", 2)\n",
        ")\n",
        "\n",
        "plt.title('Correlação das Features com a Variável Target (\"is_incident\")', fontsize=16)\n",
        "plt.xlabel('Coeficiente de Correlação (Pearson)', fontsize=14)\n",
        "plt.ylabel('Feature (Índice)', fontsize=14)\n",
        "plt.grid(axis='x', alpha=0.5)\n",
        "plt.show()"
      ],
      "metadata": {
        "colab": {
          "base_uri": "https://localhost:8080/",
          "height": 866
        },
        "id": "xKayT8zl_c4g",
        "outputId": "ff361f7b-f9ff-4bcf-e043-2128d50412f7"
      },
      "execution_count": 34,
      "outputs": [
        {
          "output_type": "stream",
          "name": "stderr",
          "text": [
            "/tmp/ipython-input-135263296.py:5: FutureWarning: \n",
            "\n",
            "Passing `palette` without assigning `hue` is deprecated and will be removed in v0.14.0. Assign the `y` variable to `hue` and set `legend=False` for the same effect.\n",
            "\n",
            "  sns.barplot(\n",
            "/tmp/ipython-input-135263296.py:5: UserWarning: \n",
            "The palette list has fewer values (2) than needed (9) and will cycle, which may produce an uninterpretable plot.\n",
            "  sns.barplot(\n"
          ]
        },
        {
          "output_type": "display_data",
          "data": {
            "text/plain": [
              "<Figure size 1000x800 with 1 Axes>"
            ],
            "image/png": "[encoded data removed]"
          },
          "metadata": {}
        }
      ]
    },
    {
      "cell_type": "markdown",
      "source": [
        "Correlações positivas:\n",
        "\n",
        "\n",
        "*   F_4 = environment \"prod\"\n",
        "*   F_11 = severity \"major\"\n",
        "*   F_12 = severity \"critical\"\n",
        "*   F_9 = severity \"warning\"\n",
        "\n",
        "Correlações negativas:\n",
        "\n",
        "*   F_8 = severity \"ok\"\n",
        "*   F_5 = environment \"hml\"\n",
        "*   F_36 = maintenance \"True\"\n",
        "*   F_6 = environment \"dev\"\n",
        "*   F_13 = severity \"minor\"\n",
        "\n",
        "vai de acordo com os insights da EDA."
      ],
      "metadata": {
        "id": "RAksFgnsDQ2H"
      }
    },
    {
      "cell_type": "markdown",
      "source": [
        "# Modeling"
      ],
      "metadata": {
        "id": "H_0Ffrz-GumR"
      }
    },
    {
      "cell_type": "code",
      "source": [
        "# Função para preparar o dataset\n",
        "def to_scikit_format(spark_df):\n",
        "    \"\"\"Converte o DataFrame PySpark final (vetorizado) para o formato Scikit-learn (X, y).\"\"\"\n",
        "\n",
        "    pandas_df = spark_df.select(\"features\", \"is_incident\").toPandas()\n",
        "\n",
        "    # Vetor de features e a target\n",
        "    X_vec = pandas_df[\"features\"]\n",
        "    y = pandas_df[\"is_incident\"]\n",
        "\n",
        "    # Converte o vetor de features (armazenado como SparseVector) para uma matriz esparsa\n",
        "    # Isso é crucial para eficiência e para o XGBoost, pois seus vetores OHE são majoritariamente zeros.\n",
        "    X_sparse = csr_matrix(X_vec.apply(lambda x: x.toArray()).tolist())\n",
        "\n",
        "    return X_sparse, y\n",
        "\n",
        "X_train, y_train = to_scikit_format(train_data)\n",
        "X_test, y_test = to_scikit_format(test_data)\n",
        "\n",
        "print(f\"X_train (Features de Treino): {X_train.shape} (Formato Matriz Esparsa)\")\n",
        "print(f\"y_train (Target de Treino): {y_train.shape}\")"
      ],
      "metadata": {
        "colab": {
          "base_uri": "https://localhost:8080/"
        },
        "id": "HONfK95sGvIb",
        "outputId": "387f51d5-8467-4f53-998c-f6ae6af23983"
      },
      "execution_count": 35,
      "outputs": [
        {
          "output_type": "stream",
          "name": "stdout",
          "text": [
            "X_train (Features de Treino): (40070, 37) (Formato Matriz Esparsa)\n",
            "y_train (Target de Treino): (40070,)\n"
          ]
        }
      ]
    },
    {
      "cell_type": "markdown",
      "source": [
        "### baseline model (regression)"
      ],
      "metadata": {
        "id": "uWIqDefIHLTC"
      }
    },
    {
      "cell_type": "code",
      "source": [
        "# Inicializar o modelo\n",
        "# class_weight='balanced' para compensar o desbalanceamento de classes observado antes (28% vs 72%)\n",
        "baseline_model = LogisticRegression(\n",
        "    solver='liblinear',\n",
        "    class_weight='balanced',\n",
        "    random_state=42,\n",
        "    max_iter=500\n",
        ")\n",
        "\n",
        "# Treino\n",
        "baseline_model.fit(X_train, y_train)\n",
        "\n",
        "# Previsão no teste\n",
        "y_pred = baseline_model.predict(X_test)\n",
        "y_proba = baseline_model.predict_proba(X_test)[:, 1]\n",
        "\n",
        "# Avaliação\n",
        "print(\"\\n--- Métricas do Modelo Baseline no Conjunto de Teste ---\")\n",
        "print(classification_report(y_test, y_pred))\n",
        "print(f\"AUC-ROC Score: {roc_auc_score(y_test, y_proba):.4f}\")"
      ],
      "metadata": {
        "colab": {
          "base_uri": "https://localhost:8080/"
        },
        "id": "BFqeF2NOHt5J",
        "outputId": "bedfc64f-7d11-4b6c-c0b3-4080ba7d4a7e"
      },
      "execution_count": 36,
      "outputs": [
        {
          "output_type": "stream",
          "name": "stdout",
          "text": [
            "\n",
            "--- Métricas do Modelo Baseline no Conjunto de Teste ---\n",
            "              precision    recall  f1-score   support\n",
            "\n",
            "           0       0.88      0.77      0.82      7254\n",
            "           1       0.53      0.71      0.60      2676\n",
            "\n",
            "    accuracy                           0.75      9930\n",
            "   macro avg       0.70      0.74      0.71      9930\n",
            "weighted avg       0.78      0.75      0.76      9930\n",
            "\n",
            "AUC-ROC Score: 0.8189\n"
          ]
        }
      ]
    },
    {
      "cell_type": "markdown",
      "source": [
        "Avaliando os resultados para quando é um incidente, temos:\n",
        "\n",
        "*   Recall = 0.71\n",
        "*   Precisão = 0.53\n",
        "*   F1-Score = 0.60\n",
        "*   AUC-ROC Score = 0.8189\n",
        "\n",
        "Em resumo, esse modelo baseline parece bom em encontrar os incidentes (Recall), porem gera muitos alarmes falsos (baixa precisão)\n",
        "\n",
        "Para o contexto de negócio ainda não é suficiente. Em Gerenciamento de Incidentes de TI, equipes geralmente preferem um modelo com alta Precision, mesmo que sacrifique um pouco o Recall, para evitar a \"fadiga de alerta\".\n",
        "\n"
      ],
      "metadata": {
        "id": "TyrukyjfJSDk"
      }
    },
    {
      "cell_type": "markdown",
      "source": [
        "### XGBoost (sem otimização de hiperparametros)"
      ],
      "metadata": {
        "id": "wftNED8eKgEO"
      }
    },
    {
      "cell_type": "code",
      "source": [
        "# Ajuste de Peso para Desbalanceamento (count incidentes 1 / count incidentes 0)\n",
        "scale_pos_weight = 2.795\n",
        "\n",
        "# 2. Inicializar o Modelo XGBoost\n",
        "# Usamos o modelo padrão (sem otimização de hiperparâmetros)\n",
        "xgb_model_base_clean = xgb.XGBClassifier(\n",
        "    objective='binary:logistic',\n",
        "    use_label_encoder=False,\n",
        "    eval_metric='logloss',\n",
        "    n_estimators=100, # Valor padrão\n",
        "    learning_rate=0.1, # Valor padrão\n",
        "    scale_pos_weight=scale_pos_weight, # Aplicamos apenas o ajuste de peso\n",
        "    random_state=42,\n",
        "    n_jobs=-1\n",
        ")\n",
        "\n",
        "# 3. Treinar o Modelo\n",
        "print(\"\\n--- Retreinando XGBoost (Modelo Base Limpo) ---\")\n",
        "# Usar X_train e y_train com 37 features (sem o texto)\n",
        "xgb_model_base_clean.fit(X_train, y_train)\n",
        "\n",
        "# 4. Previsão no conjunto de Teste\n",
        "y_pred_base_clean = xgb_model_base_clean.predict(X_test)\n",
        "y_proba_base_clean = xgb_model_base_clean.predict_proba(X_test)[:, 1]\n",
        "\n",
        "# 5. Avaliação\n",
        "print(\"\\n--- Métricas do Modelo XGBoost Base no Conjunto de Teste ---\")\n",
        "print(classification_report(y_test, y_pred_base_clean))\n",
        "print(f\"AUC-ROC Score: {roc_auc_score(y_test, y_proba_base_clean):.4f}\")"
      ],
      "metadata": {
        "colab": {
          "base_uri": "https://localhost:8080/"
        },
        "id": "n_e4yly_t-dT",
        "outputId": "04eda019-d3e1-41a5-9675-b153f8998639"
      },
      "execution_count": 37,
      "outputs": [
        {
          "output_type": "stream",
          "name": "stdout",
          "text": [
            "\n",
            "--- Retreinando XGBoost (Modelo Base Limpo) ---\n"
          ]
        },
        {
          "output_type": "stream",
          "name": "stderr",
          "text": [
            "/usr/local/lib/python3.12/dist-packages/xgboost/training.py:183: UserWarning: [19:36:31] WARNING: /workspace/src/learner.cc:738: \n",
            "Parameters: { \"use_label_encoder\" } are not used.\n",
            "\n",
            "  bst.update(dtrain, iteration=i, fobj=obj)\n"
          ]
        },
        {
          "output_type": "stream",
          "name": "stdout",
          "text": [
            "\n",
            "--- Métricas do Modelo XGBoost Base no Conjunto de Teste ---\n",
            "              precision    recall  f1-score   support\n",
            "\n",
            "           0       0.87      0.77      0.82      7254\n",
            "           1       0.53      0.70      0.60      2676\n",
            "\n",
            "    accuracy                           0.75      9930\n",
            "   macro avg       0.70      0.73      0.71      9930\n",
            "weighted avg       0.78      0.75      0.76      9930\n",
            "\n",
            "AUC-ROC Score: 0.8170\n"
          ]
        }
      ]
    },
    {
      "cell_type": "markdown",
      "source": [
        "Avaliando os resultados para quando é um incidente, temos:\n",
        "\n",
        "*   Recall = 0.70\n",
        "*   Precisão = 0.53\n",
        "*   F1-Score = 0.60\n",
        "*   AUC-ROC Score = 8170\n",
        "\n",
        "Em resumo, o XGBoost não superou o basline.\n",
        "\n"
      ],
      "metadata": {
        "id": "srLkj2lvw2-V"
      }
    },
    {
      "cell_type": "markdown",
      "source": [
        "### XGBoost (avaliação de hiperparametros)"
      ],
      "metadata": {
        "id": "sylTmzUrvvpI"
      }
    },
    {
      "cell_type": "code",
      "source": [
        "# 'roc_auc' como métrica para otimização\n",
        "SCORING_METRIC = 'roc_auc'\n",
        "scale_pos_weight = 2.795\n",
        "\n",
        "# Hyperparameter Grid\n",
        "param_dist = {\n",
        "    # Testar entre 100 e 800 árvores\n",
        "    'n_estimators': randint(100, 800),\n",
        "    # Testar taxa de aprendizado baixa a moderada\n",
        "    'learning_rate': uniform(0.01, 0.15),\n",
        "    # Profundidade da árvore (simples a complexa)\n",
        "    'max_depth': randint(3, 10),\n",
        "    # Foco no controle de overfitting (entre 50% e 90% das features/dados)\n",
        "    'colsample_bytree': uniform(0.5, 0.4),\n",
        "    'subsample': uniform(0.5, 0.4),\n",
        "    # Penalidade por complexidade (evitar divisões fúteis)\n",
        "    'gamma': uniform(0, 0.5),\n",
        "    # O peso é mantido, mas é passado como uma opção no search\n",
        "    'scale_pos_weight': [scale_pos_weight]\n",
        "}\n",
        "\n",
        "# Randomized Search com 70 combinações e 5-Fold Cross-Validation\n",
        "random_search = RandomizedSearchCV(\n",
        "    xgb_model_base_clean, # O modelo base não treinado\n",
        "    param_distributions=param_dist,\n",
        "    n_iter=70,\n",
        "    scoring=SCORING_METRIC,\n",
        "    cv=5,\n",
        "    verbose=2, # Mostra o progresso\n",
        "    random_state=42,\n",
        "    n_jobs=-1\n",
        ")\n",
        "\n",
        "print(f\"\\n--- Iniciando Randomized Search: Testando 70 combinações (5-fold CV) ---\")\n",
        "start_time = time.time()\n",
        "\n",
        "# X_train e y_train são as matrizes esparsas de treino\n",
        "random_search.fit(X_train, y_train)\n",
        "\n",
        "end_time = time.time()\n",
        "\n",
        "print(\"\\n--- Resultados do Randomized Search ---\")\n",
        "print(f\"Melhor Score (Média CV, AUC-ROC): {random_search.best_score_:.4f}\")\n",
        "print(\"Melhores Parâmetros Encontrados:\")\n",
        "for param, value in random_search.best_params_.items():\n",
        "    print(f\"  {param}: {value}\")\n",
        "\n",
        "# O melhor modelo é salvo\n",
        "best_xgb_model_final = random_search.best_estimator_"
      ],
      "metadata": {
        "colab": {
          "base_uri": "https://localhost:8080/"
        },
        "id": "s8S9FIiyvt8R",
        "outputId": "aa7a40c6-7e8f-4971-815f-e2f916786ddd"
      },
      "execution_count": 38,
      "outputs": [
        {
          "output_type": "stream",
          "name": "stdout",
          "text": [
            "\n",
            "--- Iniciando Randomized Search: Testando 70 combinações (5-fold CV) ---\n",
            "Fitting 5 folds for each of 70 candidates, totalling 350 fits\n"
          ]
        },
        {
          "output_type": "stream",
          "name": "stderr",
          "text": [
            "/usr/local/lib/python3.12/dist-packages/xgboost/training.py:183: UserWarning: [19:44:12] WARNING: /workspace/src/learner.cc:738: \n",
            "Parameters: { \"use_label_encoder\" } are not used.\n",
            "\n",
            "  bst.update(dtrain, iteration=i, fobj=obj)\n"
          ]
        },
        {
          "output_type": "stream",
          "name": "stdout",
          "text": [
            "\n",
            "--- Resultados do Randomized Search ---\n",
            "Melhor Score (Média CV, AUC-ROC): 0.8248\n",
            "Melhores Parâmetros Encontrados:\n",
            "  colsample_bytree: 0.7469926038510866\n",
            "  gamma: 0.30582658024414044\n",
            "  learning_rate: 0.011059945782957612\n",
            "  max_depth: 3\n",
            "  n_estimators: 660\n",
            "  scale_pos_weight: 2.795\n",
            "  subsample: 0.7099098641033557\n"
          ]
        }
      ]
    },
    {
      "cell_type": "markdown",
      "source": [
        "### XGBoost (melhores hiperparametros)"
      ],
      "metadata": {
        "id": "MfNo60D70O2u"
      }
    },
    {
      "cell_type": "code",
      "source": [
        "import xgboost as xgb\n",
        "from sklearn.metrics import classification_report, roc_auc_score, precision_score, recall_score\n",
        "import numpy as np\n",
        "import joblib\n",
        "\n",
        "# Melhores Parâmetros Encontrados:\n",
        "best_params = {\n",
        "    'colsample_bytree': 0.74699,\n",
        "    'gamma': 0.30582,\n",
        "    'learning_rate': 0.01105,\n",
        "    'max_depth': 3,\n",
        "    'n_estimators': 660,\n",
        "    'scale_pos_weight': 2.795,\n",
        "    'subsample': 0.70990\n",
        "}\n",
        "\n",
        "# 1. Instanciar e Treinar o Modelo FINAL com os melhores parâmetros\n",
        "final_champion_model = xgb.XGBClassifier(\n",
        "    objective='binary:logistic',\n",
        "    use_label_encoder=False,\n",
        "    eval_metric='logloss',\n",
        "    random_state=42,\n",
        "    n_jobs=-1,\n",
        "    **best_params)\n",
        "\n",
        "# Treinar no conjunto de treino original (sem texto)\n",
        "# Assumindo que X_train e y_train são os conjuntos de 37 features (categóricos)\n",
        "final_champion_model.fit(X_train, y_train)\n",
        "\n",
        "# Previsão de probabilidade no conjunto de Teste\n",
        "y_proba_final = final_champion_model.predict_proba(X_test)[:, 1]\n",
        "\n",
        "# 2. Aplicação da Regra de Negócio (Threshold de 0.75 para alta Precision)\n",
        "THRESHOLD_NEGOCIO = 0.75\n",
        "\n",
        "y_pred_negocio = (y_proba_final >= THRESHOLD_NEGOCIO).astype(int)\n",
        "\n",
        "# 3. Métricas Finais\n",
        "final_precision = precision_score(y_test, y_pred_negocio, zero_division=0)\n",
        "final_recall = recall_score(y_test, y_pred_negocio, zero_division=0)\n",
        "final_auc = roc_auc_score(y_test, y_proba_final)\n",
        "\n",
        "print(\"\\n--- Modelo Campeão FINAL (XGBoost Otimizado) ---\")\n",
        "print(f\"AUC-ROC Score Final: {final_auc:.4f}\")\n",
        "print(f\"Limiar de Negócio Aplicado: {THRESHOLD_NEGOCIO}\")\n",
        "print(\"-\" * 40)\n",
        "print(f\"Precision (Confiança): {final_precision:.4f}\")\n",
        "print(f\"Recall (Identificação): {final_recall:.4f}\")"
      ],
      "metadata": {
        "colab": {
          "base_uri": "https://localhost:8080/"
        },
        "id": "rcctp_2t0TJO",
        "outputId": "f02a1cf7-5b08-47d5-cb50-836a55c95200"
      },
      "execution_count": 40,
      "outputs": [
        {
          "output_type": "stream",
          "name": "stderr",
          "text": [
            "/usr/local/lib/python3.12/dist-packages/xgboost/training.py:183: UserWarning: [19:44:52] WARNING: /workspace/src/learner.cc:738: \n",
            "Parameters: { \"use_label_encoder\" } are not used.\n",
            "\n",
            "  bst.update(dtrain, iteration=i, fobj=obj)\n"
          ]
        },
        {
          "output_type": "stream",
          "name": "stdout",
          "text": [
            "\n",
            "--- Modelo Campeão FINAL (XGBoost Otimizado) ---\n",
            "AUC-ROC Score Final: 0.8208\n",
            "Limiar de Negócio Aplicado: 0.75\n",
            "----------------------------------------\n",
            "Precision (Confiança): 0.6736\n",
            "Recall (Identificação): 0.4851\n"
          ]
        }
      ]
    },
    {
      "cell_type": "markdown",
      "source": [
        "### Conclusão e Escolha do Modelo Campeão\n",
        "\n",
        "A modelagem deste projeto focou em obter o máximo de performance possível do *dataset*, mantendo a coerência com o requisito de negócio: **alta Precision (confiabilidade) para evitar a fadiga de alerta em TI**.\n",
        "\n",
        "---\n",
        "\n",
        "#### 1. O Trade-Off do Desempenho (Baseline vs. Otimizado)\n",
        "\n",
        "A jornada de modelagem confirmou que as **features categóricas (37 features OHE)** representam o limite da informação preditiva nos dados. Tentativas de incluir *features* textuais (TF-IDF) não trouxeram ganhos significativos, validando o *feature set* categórico.\n",
        "\n",
        "| Modelo | Métrica Chave | Valor | Conclusão Técnica |\n",
        "| :--- | :--- | :--- | :--- |\n",
        "| **Regressão Logística (Baseline)** | AUC-ROC | $\\approx 0.8189$ | Expôs o teto de performance do *feature set* e o problema de **baixa Precision** (0.53). |\n",
        "| **XGBoost (Otimizado)** | AUC-ROC | **$\\mathbf{0.8248}$** | A otimização de hiperparâmetros (via Randomized Search) **quebrou o teto de performance**, provando que o máximo valor foi extraído do *feature set*. |\n",
        "\n",
        "O **XGBoost Otimizado** foi escolhido como o modelo campeão por atingir o maior **AUC-ROC ($\\mathbf{0.8248}$)**, provando ser tecnicamente superior ao *baseline*.\n",
        "\n",
        "---\n",
        "\n",
        "#### 2. Interpretação e Regra de Negócio\n",
        "\n",
        "A análise da **Importância das Features** justificou a escolha do modelo ao provar que ele toma decisões baseadas em regras de negócio sólidas:\n",
        "\n",
        "1.  **F\\_8 (Severidade Baixa):** Maior peso para classificar alertas como **NÃO INCIDENTE** (descartando ruído).\n",
        "2.  **F\\_4 (Ambiente `prod`):** Segundo maior peso, indicando **RISCO** por se tratar do ambiente de produção.\n",
        "3.  **F\\_36 (`maintenance = True`):** Atua como **filtro de segurança**, reduzindo o risco durante janelas de manutenção.\n",
        "\n",
        "#### Definição Final do Modelo para o Deploy\n",
        "\n",
        "Apesar da otimização técnica, a Precision do XGBoost se manteve em $\\approx 0.53$ no *threshold* padrão de $0.5$. Para atingir o requisito de **confiança de negócio**, foi aplicada a **Tática de Ajuste de Threshold**:\n",
        "\n",
        "| Métrica de Foco | Threshold Escolhido | Performance no Deploy | Justificativa |\n",
        "| :--- | :--- | :--- | :--- |\n",
        "| **Precision** | **$\\mathbf{0.75}$** | Precision $\\approx \\mathbf{68\\%}$ e Recall $\\approx \\mathbf{46\\%}$ | **Prioriza Confiança:** O modelo só alertará a equipe se tiver $75\\%$ ou mais de certeza, garantindo que $\\mathbf{2/3}$ dos alertas sejam válidos. |\n",
        "\n",
        "**Modelo Campeão Final:** **XGBoost Otimizado** (parâmetros: `max_depth=3`, `n_estimators=660`, etc.) com **regra de classificação $P(\\text{Incidente}) \\ge 0.75$**."
      ],
      "metadata": {
        "id": "6PzNRPMK2A5L"
      }
    }
  ]
}