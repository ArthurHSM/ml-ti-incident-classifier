{
 "cells": [
  {
   "cell_type": "code",
   "execution_count": 2,
   "id": "5243b353",
   "metadata": {},
   "outputs": [],
   "source": [
    "import pandas as pd\n",
    "from sklearn.model_selection import train_test_split\n",
    "from sklearn.linear_model import LogisticRegression\n",
    "import pickle\n",
    "\n",
    "df = pd.read_csv('iris.data.csv', header=None)\n",
    "df.columns = ['sepal_lenght', 'sepal_width', 'petal_lenght', 'petal_width', 'species']\n",
    "\n",
    "x = df[['sepal_lenght', 'sepal_width', 'petal_lenght', 'petal_width']] # features\n",
    "y = df['species'] # class\n",
    "\n",
    "x_train, x_test, y_train, y_test = train_test_split(x, y, test_size=.3, random_state=23)\n",
    "\n",
    "lr = LogisticRegression()\n",
    "lr.fit(x_train, y_train)\n",
    "\n",
    "with open('model.pkl', 'wb') as f:\n",
    "    pickle.dump(lr, f)"
   ]
  }
 ],
 "metadata": {
  "kernelspec": {
   "display_name": "venv",
   "language": "python",
   "name": "python3"
  },
  "language_info": {
   "codemirror_mode": {
    "name": "ipython",
    "version": 3
   },
   "file_extension": ".py",
   "mimetype": "text/x-python",
   "name": "python",
   "nbconvert_exporter": "python",
   "pygments_lexer": "ipython3",
   "version": "3.13.5"
  }
 },
 "nbformat": 4,
 "nbformat_minor": 5
}
